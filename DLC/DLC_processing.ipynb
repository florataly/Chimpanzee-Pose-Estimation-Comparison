{
 "cells": [
  {
   "cell_type": "code",
   "execution_count": null,
   "metadata": {},
   "outputs": [],
   "source": [
    "from dlc_processing import DeeplabcutProcessing\n",
    "\n",
    "inferencer = DeeplabcutProcessing(\n",
    "    config_path='./DeepWild1.1/deepwild2-Charlotte-2023-05-24/config.yaml',\n",
    "    root_dir='../data/TEST',\n",
    "    output_dir='../predictions',\n",
    "    model_name='deepwild'\n",
    ")"
   ]
  },
  {
   "cell_type": "markdown",
   "metadata": {},
   "source": [
    "**Arguments**\n",
    "- config_path: path to the config files of the project\n",
    "- root_dir: path to the videos\n",
    "- model_name: name of the model used (this name will be used in output files)\n",
    "- output_dir: path where the results should be stored\n",
    "- single_file: True when a single .mp4 needs anallysis. defaults to False.\n",
    "- vis_root_dir: path where the visualizations should be stored. defaults to the output_dir\n",
    "- visualization: whether visualization is required. defaults to false."
   ]
  },
  {
   "cell_type": "code",
   "execution_count": null,
   "metadata": {},
   "outputs": [],
   "source": [
    "inferencer.run()"
   ]
  }
 ],
 "metadata": {
  "kernelspec": {
   "display_name": "DEEPLABCUT",
   "language": "python",
   "name": "python3"
  },
  "language_info": {
   "codemirror_mode": {
    "name": "ipython",
    "version": 3
   },
   "file_extension": ".py",
   "mimetype": "text/x-python",
   "name": "python",
   "nbconvert_exporter": "python",
   "pygments_lexer": "ipython3",
   "version": "3.10.16"
  }
 },
 "nbformat": 4,
 "nbformat_minor": 2
}
