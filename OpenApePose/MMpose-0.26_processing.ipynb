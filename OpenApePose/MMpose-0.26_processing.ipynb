{
 "cells": [
  {
   "cell_type": "code",
   "execution_count": null,
   "metadata": {},
   "outputs": [],
   "source": [
    "from mm_pose_processing import MMPose026Processing\n",
    "\n",
    "inferencer = MMPose026Processing(\n",
    "    pose_config_path='./mmpose/configs/animal/2d_kpt_sview_rgb_img/topdown_heatmap/macaque/hrnet_w48_oap_256x192_full.py',\n",
    "    pose_checkpoint_path='./mmpose/checkpoints/hrnet_w48_oap_256x192_full.pth',\n",
    "    root_dir='../data/TEST',\n",
    "    model='oap',\n",
    "    output_dir='../predictions'\n",
    ")"
   ]
  },
  {
   "cell_type": "markdown",
   "metadata": {},
   "source": [
    "**Arguments**\n",
    "- ``pose_config_path``: path to the config files of the project (realtive to mmpose)\n",
    "\n",
    "- ``pose_checkpoint_path``: path to the config files of the checkpoint files (realtive to mmpose)\n",
    "\n",
    "- ``root_dir``: path to the images\n",
    "\n",
    "- ``model``: name of the model. this name will be used when saving the results into CSV files.\n",
    "\n",
    "- ``output_dir``: path where the results will be stored. defaults to root_dir\n",
    "\n",
    "- ``vis_root_dir``: path where the visualizations will be stored. defaults to the output_dir\n",
    "\n",
    "- ``visualization``: whether visualization is required. defaults to false. video is only generated when process_every_n hasn't been set to anything to avoid videos with skipped frames.\n",
    "\n",
    "- ``single_folder``: set to true when the root_dir points at a folder with image files, without any further folders that need processing.\n",
    "\n",
    "- ``process_every_n``: when set to integer *n*, the model will only process every *n*-th frame.\n",
    "\n",
    "- ``det_config_path``: path to MMdet config files (relative to MMpose folder location). The inferencer uses the demo files provided by MMpose, unless otherwise instructed\n",
    "\n",
    "- ``det_checkpoint_path``: path to MMdet checkpoint files (relative to MMpose folder location). The inferencer uses the demo files provided by MMpose, unless otherwise instructed"
   ]
  },
  {
   "cell_type": "code",
   "execution_count": null,
   "metadata": {},
   "outputs": [],
   "source": [
    "inferencer.run()"
   ]
  },
  {
   "cell_type": "markdown",
   "metadata": {},
   "source": [
    "## Turning videos to frame-by-frame images in a single folder\n",
    "\n",
    "use the ``.videos_to_images(input_folder, output_dir)`` function to turn your videos into frame-by-frame images.\n",
    "\n",
    "both `input_folder` and `output_dir` are optional arguments, however `input_folder` is required when the videos we want to turn to frames are not in the `root_dir` of the interpreter. \n",
    "\n",
    "`output_dir` is where the image folder will be saved. this also defaults to the `root_dir` path.\n"
   ]
  },
  {
   "cell_type": "code",
   "execution_count": null,
   "metadata": {},
   "outputs": [],
   "source": [
    "inferencer.videos_to_images()"
   ]
  },
  {
   "cell_type": "markdown",
   "metadata": {},
   "source": [
    "## Turning frame-by-frame images into videos\n",
    "\n",
    "Use the ``.images_to_videos(input_dir, output_folder, single_folder)`` function to turn your folder(s) of frames back into videos. This function is also autmatically applied when an inferencer is run with all images procressed (``process_every_n == None``)\n",
    "\n",
    "All arguments are optional. \n",
    "\n",
    "- ``input_dir`` is required when the images we want to turn to videos are not in the root_dir of the interpreter. \n",
    "- ``output_folder`` is where the video will be saved. this also defaults to be the same as the input_dir.\n",
    "- ``single_folder`` is true when there is only a single folder with images, and a single output video. defaults to false."
   ]
  },
  {
   "cell_type": "code",
   "execution_count": null,
   "metadata": {},
   "outputs": [],
   "source": [
    "inferencer.images_to_videos(input_dir='../data')"
   ]
  }
 ],
 "metadata": {
  "kernelspec": {
   "display_name": "OpenApePose2",
   "language": "python",
   "name": "python3"
  },
  "language_info": {
   "codemirror_mode": {
    "name": "ipython",
    "version": 3
   },
   "file_extension": ".py",
   "mimetype": "text/x-python",
   "name": "python",
   "nbconvert_exporter": "python",
   "pygments_lexer": "ipython3",
   "version": "3.8.20"
  }
 },
 "nbformat": 4,
 "nbformat_minor": 2
}
